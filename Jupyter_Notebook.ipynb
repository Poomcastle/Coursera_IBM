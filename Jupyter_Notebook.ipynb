{
  "cells": [
    {
      "cell_type": "markdown",
      "metadata": {
        "id": "view-in-github",
        "colab_type": "text"
      },
      "source": [
        "<a href=\"https://colab.research.google.com/github/Poomcastle/Coursera_IBM/blob/main/Jupyter_Notebook.ipynb\" target=\"_parent\"><img src=\"https://colab.research.google.com/assets/colab-badge.svg\" alt=\"Open In Colab\"/></a>"
      ]
    },
    {
      "cell_type": "markdown",
      "metadata": {
        "id": "i7l10z5BZ_yf"
      },
      "source": [
        "<center>\n",
        "    <img src=\"https://s3-api.us-geo.objectstorage.softlayer.net/cf-courses-data/CognitiveClass/Logos/organization_logo/organization_logo.png\" width=\"300\" alt=\"cognitiveclass.ai logo\"  />\n",
        "</center>\n"
      ]
    },
    {
      "cell_type": "markdown",
      "metadata": {
        "id": "u7LVXt7AZ_ys"
      },
      "source": [
        "#### Add your code below following the instructions given in the course\n"
      ]
    },
    {
      "cell_type": "markdown",
      "source": [
        "# My Jupyter Notebook on IBM Watson Studio"
      ],
      "metadata": {
        "id": "byhuObgoaPpp"
      }
    },
    {
      "cell_type": "markdown",
      "source": [
        "<b><u> Poomseong Park"
      ],
      "metadata": {
        "id": "MZhPSU_UaWMf"
      }
    },
    {
      "cell_type": "markdown",
      "source": [
        "_I'm Interested in data science because of the object detection_"
      ],
      "metadata": {
        "id": "M6SOri9rabWI"
      }
    },
    {
      "cell_type": "markdown",
      "source": [
        "### Print The Summation"
      ],
      "metadata": {
        "id": "dCfkiN6Van0Q"
      }
    },
    {
      "cell_type": "code",
      "source": [
        "print(1+1)"
      ],
      "metadata": {
        "colab": {
          "base_uri": "https://localhost:8080/"
        },
        "id": "gD7hDrwDaSiN",
        "outputId": "a96ec2a4-4e07-440b-b2d1-c2eb97698429"
      },
      "execution_count": null,
      "outputs": [
        {
          "output_type": "stream",
          "name": "stdout",
          "text": [
            "2\n"
          ]
        }
      ]
    },
    {
      "cell_type": "markdown",
      "source": [
        "### Bulleted List\n",
        "* Line Number One\n",
        "* Line Number Two\n",
        "\n",
        "### Numbered List\n",
        "1. Line Number One\n",
        "2. Line Number Two\n",
        "\n",
        "### Link\n",
        "[Click Here To Google](https://www.google.com/)"
      ],
      "metadata": {
        "id": "h0Kc5PP0auRa"
      }
    },
    {
      "cell_type": "code",
      "source": [
        ""
      ],
      "metadata": {
        "id": "lCrJ52pYaroY"
      },
      "execution_count": null,
      "outputs": []
    }
  ],
  "metadata": {
    "kernelspec": {
      "display_name": "Python 3",
      "language": "python",
      "name": "python3"
    },
    "language_info": {
      "codemirror_mode": {
        "name": "ipython",
        "version": 3
      },
      "file_extension": ".py",
      "mimetype": "text/x-python",
      "name": "python",
      "nbconvert_exporter": "python",
      "pygments_lexer": "ipython3",
      "version": "3.7.6"
    },
    "colab": {
      "name": "Jupyter_Notebook.ipynb",
      "provenance": [],
      "collapsed_sections": [],
      "include_colab_link": true
    }
  },
  "nbformat": 4,
  "nbformat_minor": 0
}